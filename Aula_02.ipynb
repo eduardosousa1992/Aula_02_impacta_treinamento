{
  "nbformat": 4,
  "nbformat_minor": 0,
  "metadata": {
    "colab": {
      "name": "Aula_02",
      "private_outputs": true,
      "provenance": [],
      "authorship_tag": "ABX9TyN1wlx/Mnmdpwsm3Pm9efL6",
      "include_colab_link": true
    },
    "kernelspec": {
      "name": "python3",
      "display_name": "Python 3"
    },
    "language_info": {
      "name": "python"
    }
  },
  "cells": [
    {
      "cell_type": "markdown",
      "metadata": {
        "id": "view-in-github",
        "colab_type": "text"
      },
      "source": [
        "<a href=\"https://colab.research.google.com/github/eduardosousa1992/Aula_02_impacta_treinamento/blob/main/Aula_02.ipynb\" target=\"_parent\"><img src=\"https://colab.research.google.com/assets/colab-badge.svg\" alt=\"Open In Colab\"/></a>"
      ]
    },
    {
      "cell_type": "markdown",
      "metadata": {
        "id": "3adlI8UV73BA"
      },
      "source": [
        "#Lista de exercícios dia 02 treinamento impacta "
      ]
    },
    {
      "cell_type": "markdown",
      "metadata": {
        "id": "t0HVA4ds8iQw"
      },
      "source": [
        "#Questão 02 : Crie uma lista com 4 timer de futebol."
      ]
    },
    {
      "cell_type": "code",
      "metadata": {
        "id": "AjXgS5yH70ql"
      },
      "source": [
        "lista_time_futebol = ['Corinthians','São Paulo','Palmeiras','Flamengo']"
      ],
      "execution_count": null,
      "outputs": []
    },
    {
      "cell_type": "code",
      "metadata": {
        "id": "lJA4Dv4c8ZSc"
      },
      "source": [
        "lista_time_futebol"
      ],
      "execution_count": null,
      "outputs": []
    },
    {
      "cell_type": "markdown",
      "metadata": {
        "id": "XAboPokP81Dp"
      },
      "source": [
        "#Questão 03 : Acesse o time que esta na terceira posição."
      ]
    },
    {
      "cell_type": "code",
      "metadata": {
        "id": "UiEwRagY8gPY"
      },
      "source": [
        "lista_time_futebol[2]"
      ],
      "execution_count": null,
      "outputs": []
    },
    {
      "cell_type": "markdown",
      "metadata": {
        "id": "usC2WmfK_LdQ"
      },
      "source": [
        "#Questão 04 : Crie uma nova lista com duas lista de 03 times de futebol. Cada uma de uma divisão diferente. \n",
        " "
      ]
    },
    {
      "cell_type": "code",
      "metadata": {
        "id": "qOPB1H7d8_zS"
      },
      "source": [
        "nova_lista_time_futebol = ['Coritiba','Botafogo','Goiás','Avaí',lista_time_futebol]"
      ],
      "execution_count": null,
      "outputs": []
    },
    {
      "cell_type": "code",
      "metadata": {
        "id": "Q6e_oDrn-_FL"
      },
      "source": [
        "nova_lista_time_futebol"
      ],
      "execution_count": null,
      "outputs": []
    },
    {
      "cell_type": "markdown",
      "metadata": {
        "id": "06r5InDW_1_y"
      },
      "source": [
        "#Questão 05 : Crie uma lista com 3 difernetes moedas. Acrescente mais 2 outras moedas a essa mesma lista. "
      ]
    },
    {
      "cell_type": "code",
      "metadata": {
        "id": "we1Aq50P_y11"
      },
      "source": [
        "lista_moedas = ['Real','Dolar','Euro']"
      ],
      "execution_count": null,
      "outputs": []
    },
    {
      "cell_type": "code",
      "metadata": {
        "id": "RlzpvqdrAmh7"
      },
      "source": [
        "lista_moedas"
      ],
      "execution_count": null,
      "outputs": []
    },
    {
      "cell_type": "code",
      "metadata": {
        "id": "ayKshpnuDHIf"
      },
      "source": [
        "lista_codigo_moeda = ['BRL','USD','EUR']"
      ],
      "execution_count": null,
      "outputs": []
    },
    {
      "cell_type": "code",
      "metadata": {
        "id": "WFbCWiwaD-Qq"
      },
      "source": [
        "lista_codigo_moeda"
      ],
      "execution_count": null,
      "outputs": []
    },
    {
      "cell_type": "code",
      "metadata": {
        "id": "5xUBf74kAsCN"
      },
      "source": [
        "lista_moedas = ['Real','Dolar','Euro','Peso argentino','Złoty']"
      ],
      "execution_count": null,
      "outputs": []
    },
    {
      "cell_type": "code",
      "metadata": {
        "id": "TJXWcl-YBLh_"
      },
      "source": [
        "lista_moedas"
      ],
      "execution_count": null,
      "outputs": []
    },
    {
      "cell_type": "code",
      "metadata": {
        "id": "-ngNpZXCEMEi"
      },
      "source": [
        "lista_codigo_moeda = ['BRL','USD','EUR','ARS','Złoty']"
      ],
      "execution_count": null,
      "outputs": []
    },
    {
      "cell_type": "code",
      "metadata": {
        "id": "X_-ZaBxYGRZx"
      },
      "source": [
        "lista_codigo_moeda"
      ],
      "execution_count": null,
      "outputs": []
    },
    {
      "cell_type": "markdown",
      "metadata": {
        "id": "xNhbCcvnBUqW"
      },
      "source": [
        "#Questão 06 : Crie uma string com a lista do exercicio anterior."
      ]
    },
    {
      "cell_type": "code",
      "metadata": {
        "id": "jRXERf9_BMu9"
      },
      "source": [
        "type(lista_moedas)"
      ],
      "execution_count": null,
      "outputs": []
    },
    {
      "cell_type": "code",
      "metadata": {
        "id": "YbSlT2JGCW5o"
      },
      "source": [
        "minhaString = ' '.join(lista_moedas)\n",
        "print(minhaString)"
      ],
      "execution_count": null,
      "outputs": []
    },
    {
      "cell_type": "code",
      "metadata": {
        "id": "S300MlaHIL12"
      },
      "source": [
        "type(minhaString)"
      ],
      "execution_count": null,
      "outputs": []
    },
    {
      "cell_type": "markdown",
      "metadata": {
        "id": "Aoc9vXTSVDv3"
      },
      "source": [
        "# Questão 07 : Agora utilize a string do exercício anterior para reciar uma fila."
      ]
    },
    {
      "cell_type": "code",
      "metadata": {
        "id": "OqrEoicKPJ5l"
      },
      "source": [
        "nova_list = minhaString.split(',')\n",
        "nova_list "
      ],
      "execution_count": null,
      "outputs": []
    },
    {
      "cell_type": "code",
      "metadata": {
        "id": "_Cs6IrhaPhhU"
      },
      "source": [
        "type(nova_list)"
      ],
      "execution_count": null,
      "outputs": []
    },
    {
      "cell_type": "code",
      "metadata": {
        "id": "x7iQ6sILQcZk"
      },
      "source": [
        ""
      ],
      "execution_count": null,
      "outputs": []
    },
    {
      "cell_type": "code",
      "metadata": {
        "id": "UbR6ep2eRbfV"
      },
      "source": [
        ""
      ],
      "execution_count": null,
      "outputs": []
    },
    {
      "cell_type": "code",
      "metadata": {
        "id": "XcVWy6AJRmQL"
      },
      "source": [
        ""
      ],
      "execution_count": null,
      "outputs": []
    }
  ]
}